{
 "cells": [
  {
   "cell_type": "code",
   "execution_count": 6,
   "id": "d2d6de4c",
   "metadata": {},
   "outputs": [
    {
     "name": "stdout",
     "output_type": "stream",
     "text": [
      "Requirement already satisfied: textblob in c:\\users\\sinha\\anaconda3\\envs\\env1\\lib\\site-packages (0.19.0)\n",
      "Requirement already satisfied: nltk>=3.9 in c:\\users\\sinha\\anaconda3\\envs\\env1\\lib\\site-packages (from textblob) (3.9.1)\n",
      "Requirement already satisfied: click in c:\\users\\sinha\\anaconda3\\envs\\env1\\lib\\site-packages (from nltk>=3.9->textblob) (8.2.1)\n",
      "Requirement already satisfied: joblib in c:\\users\\sinha\\anaconda3\\envs\\env1\\lib\\site-packages (from nltk>=3.9->textblob) (1.5.1)\n",
      "Requirement already satisfied: regex>=2021.8.3 in c:\\users\\sinha\\anaconda3\\envs\\env1\\lib\\site-packages (from nltk>=3.9->textblob) (2025.7.34)\n",
      "Requirement already satisfied: tqdm in c:\\users\\sinha\\anaconda3\\envs\\env1\\lib\\site-packages (from nltk>=3.9->textblob) (4.67.1)\n",
      "Requirement already satisfied: colorama in c:\\users\\sinha\\anaconda3\\envs\\env1\\lib\\site-packages (from click->nltk>=3.9->textblob) (0.4.6)\n",
      "Requirement already satisfied: gingerit in c:\\users\\sinha\\anaconda3\\envs\\env1\\lib\\site-packages (0.0.0.1)\n"
     ]
    }
   ],
   "source": [
    "!pip install textblob\n",
    "!pip install gingerit"
   ]
  },
  {
   "cell_type": "code",
   "execution_count": 7,
   "id": "407fb440",
   "metadata": {},
   "outputs": [
    {
     "name": "stdout",
     "output_type": "stream",
     "text": [
      "Requirement already satisfied: gingerit in c:\\users\\sinha\\anaconda3\\envs\\env1\\lib\\site-packages (0.0.0.1)\n"
     ]
    }
   ],
   "source": [
    "!pip install gingerit"
   ]
  },
  {
   "cell_type": "code",
   "execution_count": 1,
   "id": "9e95fe98",
   "metadata": {},
   "outputs": [
    {
     "name": "stdout",
     "output_type": "stream",
     "text": [
      "Collecting pyspellchecker\n",
      "  Using cached pyspellchecker-0.8.3-py3-none-any.whl.metadata (9.5 kB)\n",
      "Collecting language-tool-python\n",
      "  Using cached language_tool_python-2.9.4-py3-none-any.whl.metadata (55 kB)\n",
      "Requirement already satisfied: requests in c:\\users\\sinha\\anaconda3\\envs\\env1\\lib\\site-packages (from language-tool-python) (2.32.4)\n",
      "Requirement already satisfied: tqdm in c:\\users\\sinha\\anaconda3\\envs\\env1\\lib\\site-packages (from language-tool-python) (4.67.1)\n",
      "Requirement already satisfied: psutil in c:\\users\\sinha\\anaconda3\\envs\\env1\\lib\\site-packages (from language-tool-python) (7.0.0)\n",
      "Requirement already satisfied: toml in c:\\users\\sinha\\anaconda3\\envs\\env1\\lib\\site-packages (from language-tool-python) (0.10.2)\n",
      "Requirement already satisfied: charset_normalizer<4,>=2 in c:\\users\\sinha\\anaconda3\\envs\\env1\\lib\\site-packages (from requests->language-tool-python) (3.4.2)\n",
      "Requirement already satisfied: idna<4,>=2.5 in c:\\users\\sinha\\anaconda3\\envs\\env1\\lib\\site-packages (from requests->language-tool-python) (3.10)\n",
      "Requirement already satisfied: urllib3<3,>=1.21.1 in c:\\users\\sinha\\anaconda3\\envs\\env1\\lib\\site-packages (from requests->language-tool-python) (2.5.0)\n",
      "Requirement already satisfied: certifi>=2017.4.17 in c:\\users\\sinha\\anaconda3\\envs\\env1\\lib\\site-packages (from requests->language-tool-python) (2025.8.3)\n",
      "Requirement already satisfied: colorama in c:\\users\\sinha\\anaconda3\\envs\\env1\\lib\\site-packages (from tqdm->language-tool-python) (0.4.6)\n",
      "Using cached pyspellchecker-0.8.3-py3-none-any.whl (7.2 MB)\n",
      "Using cached language_tool_python-2.9.4-py3-none-any.whl (55 kB)\n",
      "Installing collected packages: pyspellchecker, language-tool-python\n",
      "\n",
      "   ---------------------------------------- 2/2 [language-tool-python]\n",
      "\n",
      "Successfully installed language-tool-python-2.9.4 pyspellchecker-0.8.3\n"
     ]
    }
   ],
   "source": [
    "!pip install pyspellchecker language-tool-python"
   ]
  },
  {
   "cell_type": "code",
   "execution_count": null,
   "id": "141293c7",
   "metadata": {},
   "outputs": [],
   "source": [
    "from spellchecker import SpellChecker\n",
    "\n",
    "#step-2 creating the app class\n",
    "class SpellCheckerApp:\n",
    "    def _init_(self):\n",
    "        self.spell= SpellChecker()\n",
    "\n",
    "    def correct_text(self,text):\n",
    "        words = text.split() #hello world ['hello\", 'world']\n",
    "        corrected_words = []\n",
    "\n",
    "        for word in words:\n",
    "            corrected_word = self.spell.correction(word)\n",
    "            if corrected_word != word.lower():\n",
    "                print(f'Correcting \"{word}\" to \"{corrected_word}\"')\n",
    "                corrected_words.append(corrected_word)\n",
    "                \n",
    "    #step-4 returning the corrected text\n",
    "        return ' '.join(corrected_words)\n",
    "\n",
    "#step-5 running the app\n",
    "    def run(self):\n",
    "        print(\"\\n --- Spell Checker --- \")\n",
    "\n",
    "        while True:\n",
    "            text = input('Enter text to check (or type \"exit\" to quit): ')\n",
    "\n",
    "            if text.lower() == 'exit':\n",
    "                print(\"Closing the program .... \")\n",
    "                break\n",
    "\n",
    "        corrected_text = self.correct_text(text)\n",
    "        print(f'Corrected Text : {corrected_text}')\n",
    "\n",
    "\n",
    "if __name__==\"__name__\":\n",
    "    SpellCheckerApp().run()"
   ]
  }
 ],
 "metadata": {
  "kernelspec": {
   "display_name": "ENV1",
   "language": "python",
   "name": "python3"
  },
  "language_info": {
   "codemirror_mode": {
    "name": "ipython",
    "version": 3
   },
   "file_extension": ".py",
   "mimetype": "text/x-python",
   "name": "python",
   "nbconvert_exporter": "python",
   "pygments_lexer": "ipython3",
   "version": "3.11.13"
  }
 },
 "nbformat": 4,
 "nbformat_minor": 5
}
